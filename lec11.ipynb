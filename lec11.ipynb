{
 "cells": [
  {
   "cell_type": "markdown",
   "id": "cdca9e0c",
   "metadata": {},
   "source": [
    "# lec11"
   ]
  },
  {
   "cell_type": "code",
   "execution_count": 7,
   "id": "9984efe3",
   "metadata": {},
   "outputs": [
    {
     "ename": "NameError",
     "evalue": "name 'text_context' is not defined",
     "output_type": "error",
     "traceback": [
      "\u001b[0;31m---------------------------------------------------------------------------\u001b[0m",
      "\u001b[0;31mNameError\u001b[0m                                 Traceback (most recent call last)",
      "\u001b[0;32m<ipython-input-7-e7d635728b3e>\u001b[0m in \u001b[0;36m<module>\u001b[0;34m\u001b[0m\n\u001b[1;32m      1\u001b[0m \u001b[0;32mwith\u001b[0m \u001b[0mopen\u001b[0m\u001b[0;34m(\u001b[0m\u001b[0;34m'jmu_news.txt'\u001b[0m\u001b[0;34m,\u001b[0m\u001b[0;34m'r'\u001b[0m\u001b[0;34m)\u001b[0m \u001b[0;32mas\u001b[0m \u001b[0mjmu_news\u001b[0m\u001b[0;34m:\u001b[0m\u001b[0;34m\u001b[0m\u001b[0;34m\u001b[0m\u001b[0m\n\u001b[1;32m      2\u001b[0m     \u001b[0mtext_content\u001b[0m \u001b[0;34m=\u001b[0m \u001b[0mjmu_news\u001b[0m\u001b[0;34m.\u001b[0m\u001b[0mread\u001b[0m\u001b[0;34m(\u001b[0m\u001b[0;34m)\u001b[0m\u001b[0;34m\u001b[0m\u001b[0;34m\u001b[0m\u001b[0m\n\u001b[0;32m----> 3\u001b[0;31m     \u001b[0mprint\u001b[0m\u001b[0;34m(\u001b[0m\u001b[0mtext_context\u001b[0m\u001b[0;34m)\u001b[0m\u001b[0;34m\u001b[0m\u001b[0;34m\u001b[0m\u001b[0m\n\u001b[0m",
      "\u001b[0;31mNameError\u001b[0m: name 'text_context' is not defined"
     ]
    }
   ],
   "source": [
    "with open('jmu_news.txt','r') as jmu_news:\n",
    "    text_content = jmu_news.read()\n",
    "    print(text_context)"
   ]
  },
  {
   "cell_type": "markdown",
   "id": "cb0706a0",
   "metadata": {},
   "source": []
  },
  {
   "cell_type": "markdown",
   "id": "f3dfbd68",
   "metadata": {},
   "source": [
    "jmu_news = open('jmu_news.txt','r')\n",
    "text_content = jmu_news.read()\n",
    "print(text_context)"
   ]
  },
  {
   "cell_type": "code",
   "execution_count": 8,
   "id": "e4c63136",
   "metadata": {},
   "outputs": [],
   "source": [
    "from collections import Counter"
   ]
  },
  {
   "cell_type": "code",
   "execution_count": 9,
   "id": "7d18235d",
   "metadata": {},
   "outputs": [
    {
     "name": "stdout",
     "output_type": "stream",
     "text": [
      "Counter({'b': 2, 'a': 1})\n"
     ]
    }
   ],
   "source": [
    "count_result = Counter ( ['a','b','b'] )\n",
    "\n",
    "print(count_result)"
   ]
  },
  {
   "cell_type": "code",
   "execution_count": 13,
   "id": "76ab4fc4",
   "metadata": {},
   "outputs": [
    {
     "name": "stdout",
     "output_type": "stream",
     "text": [
      "and 18\n",
      "for 7\n",
      "to 6\n",
      "the 4\n",
      "of 4\n",
      "in 4\n",
      "JMU 3\n",
      "June 3\n",
      "4 3\n",
      "President 3\n"
     ]
    }
   ],
   "source": []
  },
  {
   "cell_type": "code",
   "execution_count": 14,
   "id": "3181df44",
   "metadata": {},
   "outputs": [
    {
     "name": "stdout",
     "output_type": "stream",
     "text": [
      "[2, 3, 4, 5]\n"
     ]
    }
   ],
   "source": [
    "old_list = [1,2,3,4]\n",
    "new_list = [i+1 for i in old_list ]\n",
    "print(new_list)"
   ]
  },
  {
   "cell_type": "markdown",
   "id": "0d13e828",
   "metadata": {},
   "source": [
    "# ex1"
   ]
  },
  {
   "cell_type": "code",
   "execution_count": 15,
   "id": "2e56787a",
   "metadata": {},
   "outputs": [
    {
     "name": "stdout",
     "output_type": "stream",
     "text": [
      "and 18\n",
      "for 7\n",
      "to 6\n",
      "the 4\n",
      "of 4\n",
      "in 4\n",
      "JMU 3\n",
      "June 3\n",
      "4 3\n",
      "President 3\n"
     ]
    }
   ],
   "source": [
    "with open ('jmu_news.txt','r') as jmu_news:\n",
    "    news_content = jmu_news.read()\n",
    "    word_list = news_content.split()\n",
    "    count_result = Counter(word_list)\n",
    "    for word, count in count_result.most_common(10):\n",
    "        print(word,count)"
   ]
  },
  {
   "cell_type": "markdown",
   "id": "ed636910",
   "metadata": {},
   "source": [
    "# ex2"
   ]
  },
  {
   "cell_type": "code",
   "execution_count": null,
   "id": "9123987e",
   "metadata": {},
   "outputs": [],
   "source": [
    "with open ('jmu_news.txt','r') as jmu_news:\n",
    "    text_content = jmu_news.read()\n",
    "    word_list = text_content.split()\n",
    "    \n",
    "    lower_word_list = [word.lower()  for word in word_list ]\n",
    "    count_result = Counter(lowewr_word_list)\n",
    "    \n",
    "    for word, count in count_result.most_common(10):\n",
    "        print(word,count)"
   ]
  },
  {
   "cell_type": "code",
   "execution_count": null,
   "id": "88775409",
   "metadata": {},
   "outputs": [],
   "source": [
    "print (' {} salary is ${}.'.format('from',60000))"
   ]
  },
  {
   "cell_type": "code",
   "execution_count": null,
   "id": "8ed8b884",
   "metadata": {},
   "outputs": [],
   "source": []
  },
  {
   "cell_type": "code",
   "execution_count": null,
   "id": "c66f164f",
   "metadata": {},
   "outputs": [],
   "source": [
    "import json\n",
    "from pprint import pprint"
   ]
  },
  {
   "cell_type": "code",
   "execution_count": null,
   "id": "1e9e2b44",
   "metadata": {},
   "outputs": [],
   "source": [
    "with open ('demo.json','r') as json_file:\n",
    "    json_dict= json.load(json.file)\n",
    "    pprint(jsin_dict)"
   ]
  },
  {
   "cell_type": "code",
   "execution_count": null,
   "id": "4fcf1d72",
   "metadata": {},
   "outputs": [],
   "source": [
    "import urllib.request"
   ]
  },
  {
   "cell_type": "code",
   "execution_count": null,
   "id": "5ef49765",
   "metadata": {},
   "outputs": [],
   "source": [
    "url= 'http://www.jmu.edu'\n",
    "\n",
    "response = urllib.request.urlopen(url)\n",
    "\n",
    "web_html = res.read()\n",
    "\n",
    "print(web_html.decode('utf-8'))"
   ]
  },
  {
   "cell_type": "code",
   "execution_count": null,
   "id": "62983353",
   "metadata": {},
   "outputs": [],
   "source": []
  }
 ],
 "metadata": {
  "kernelspec": {
   "display_name": "conda_python3",
   "language": "python",
   "name": "conda_python3"
  },
  "language_info": {
   "codemirror_mode": {
    "name": "ipython",
    "version": 3
   },
   "file_extension": ".py",
   "mimetype": "text/x-python",
   "name": "python",
   "nbconvert_exporter": "python",
   "pygments_lexer": "ipython3",
   "version": "3.6.13"
  }
 },
 "nbformat": 4,
 "nbformat_minor": 5
}
